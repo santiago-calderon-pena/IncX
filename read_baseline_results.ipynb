{
 "cells": [
  {
   "cell_type": "code",
   "execution_count": 1,
   "metadata": {},
   "outputs": [],
   "source": [
    "import pickle\n",
    "\n",
    "pickle_file_name = './results/baseline.pkl'\n",
    "\n",
    "\n",
    "with open(pickle_file_name, 'rb') as file:\n",
    "    curr_pickle = pickle.load(file)\n"
   ]
  },
  {
   "cell_type": "code",
   "execution_count": 2,
   "metadata": {},
   "outputs": [
    {
     "data": {
      "text/plain": [
       "7902"
      ]
     },
     "execution_count": 2,
     "metadata": {},
     "output_type": "execute_result"
    }
   ],
   "source": [
    "len(curr_pickle.keys())"
   ]
  },
  {
   "cell_type": "code",
   "execution_count": 3,
   "metadata": {},
   "outputs": [
    {
     "data": {
      "text/plain": [
       "defaultdict(<function __main__.<lambda>()>,\n",
       "            {'D_RISE': defaultdict(<function __main__.<lambda>.<locals>.<lambda>()>,\n",
       "                         {'FASTER_RCNN': defaultdict(float,\n",
       "                                      {'insertion': 0.6731349834529468,\n",
       "                                       'deletion': 0.0043316885273677564,\n",
       "                                       'epg': 0.037185277012696034,\n",
       "                                       'exp_proportion': 0.1368346757458399,\n",
       "                                       'explanation_time': 5256.741799218569,\n",
       "                                       'object_count': 14412.0,\n",
       "                                       'image_count': 2556.0}),\n",
       "                          'YOLO': defaultdict(float,\n",
       "                                      {'insertion': 0.33136162820985166,\n",
       "                                       'deletion': 0.008422439157079433,\n",
       "                                       'epg': 0.07382653888854644,\n",
       "                                       'exp_proportion': 0.47660172429711883,\n",
       "                                       'explanation_time': 1694.113040594643,\n",
       "                                       'object_count': 3754.0,\n",
       "                                       'image_count': 2692.0}),\n",
       "                          'RT_DETR': defaultdict(float,\n",
       "                                      {'insertion': 0.5430165251176938,\n",
       "                                       'deletion': 0.0064430741711822516,\n",
       "                                       'epg': 0.045081678888606834,\n",
       "                                       'exp_proportion': 0.25111955997659197,\n",
       "                                       'explanation_time': 2228.447305863696,\n",
       "                                       'object_count': 11973.0,\n",
       "                                       'image_count': 2654.0})})})"
      ]
     },
     "execution_count": 3,
     "metadata": {},
     "output_type": "execute_result"
    }
   ],
   "source": [
    "from collections import defaultdict\n",
    "\n",
    "\n",
    "results = defaultdict(lambda: defaultdict(lambda: defaultdict(float)))\n",
    "\n",
    "image_total_counter = 0\n",
    "for key, value in curr_pickle.items():\n",
    "    explainer, model, _ = key\n",
    "\n",
    "    for obj in value:\n",
    "        results[explainer][model]['insertion'] += obj['metrics']['insertion']\n",
    "        results[explainer][model]['deletion'] += obj['metrics']['deletion']\n",
    "        results[explainer][model]['epg'] += obj['metrics']['epg']\n",
    "        results[explainer][model]['exp_proportion'] += obj['metrics']['exp_proportion']\n",
    "        results[explainer][model]['explanation_time'] += obj['metrics']['explanation_time']\n",
    "        results[explainer][model]['object_count'] += 1\n",
    "    results[explainer][model]['image_count'] += 1\n",
    "    image_total_counter += 1\n",
    "for key, value in results.items():\n",
    "    for model, metrics in value.items():\n",
    "        results[key][model]['insertion'] /= results[key][model]['object_count']\n",
    "        results[key][model]['deletion'] /= results[key][model]['object_count']\n",
    "        results[key][model]['epg'] /= results[key][model]['object_count']\n",
    "        results[key][model]['exp_proportion'] /= results[key][model]['object_count']\n",
    "        results[key][model]['explanation_time'] /= results[key][model]['object_count']\n",
    "  \n",
    "results"
   ]
  },
  {
   "cell_type": "code",
   "execution_count": 4,
   "metadata": {},
   "outputs": [
    {
     "data": {
      "text/plain": [
       "7902"
      ]
     },
     "execution_count": 4,
     "metadata": {},
     "output_type": "execute_result"
    }
   ],
   "source": [
    "image_total_counter"
   ]
  }
 ],
 "metadata": {
  "kernelspec": {
   "display_name": "Python 3",
   "language": "python",
   "name": "python3"
  },
  "language_info": {
   "codemirror_mode": {
    "name": "ipython",
    "version": 3
   },
   "file_extension": ".py",
   "mimetype": "text/x-python",
   "name": "python",
   "nbconvert_exporter": "python",
   "pygments_lexer": "ipython3",
   "version": "3.11.9"
  }
 },
 "nbformat": 4,
 "nbformat_minor": 2
}
