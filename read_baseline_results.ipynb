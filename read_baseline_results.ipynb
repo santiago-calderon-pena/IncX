{
 "cells": [
  {
   "cell_type": "code",
   "execution_count": 17,
   "metadata": {},
   "outputs": [],
   "source": [
    "import pickle\n",
    "pickle_file_name = './results/baseline.pkl'\n",
    "\n",
    "with open(pickle_file_name, 'rb') as file:\n",
    "    curr_pickle = pickle.load(file)"
   ]
  },
  {
   "cell_type": "code",
   "execution_count": 18,
   "metadata": {},
   "outputs": [
    {
     "data": {
      "text/plain": [
       "336"
      ]
     },
     "execution_count": 18,
     "metadata": {},
     "output_type": "execute_result"
    }
   ],
   "source": [
    "len(curr_pickle.keys())"
   ]
  },
  {
   "cell_type": "code",
   "execution_count": 49,
   "metadata": {},
   "outputs": [
    {
     "data": {
      "text/plain": [
       "defaultdict(<function __main__.<lambda>()>,\n",
       "            {'D_RISE': defaultdict(<function __main__.<lambda>.<locals>.<lambda>()>,\n",
       "                         {'FASTER_RCNN': defaultdict(float,\n",
       "                                      {'insertion': 0.6696213773265927,\n",
       "                                       'deletion': 0.004488606395225822,\n",
       "                                       'epg': 0.03698295438894617,\n",
       "                                       'exp_proportion': 0.15042679768725858,\n",
       "                                       'explanation_time': 5440.109268461339,\n",
       "                                       'object_count': 1066.0}),\n",
       "                          'YOLO': defaultdict(float,\n",
       "                                      {'insertion': 0.2747839143185034,\n",
       "                                       'deletion': 0.008285611939150348,\n",
       "                                       'epg': 0.11070656456253068,\n",
       "                                       'exp_proportion': 0.6052930752372908,\n",
       "                                       'explanation_time': 884.5484754680808,\n",
       "                                       'object_count': 153.0}),\n",
       "                          'RT_DETR': defaultdict(float,\n",
       "                                      {'insertion': 0.5365315170345778,\n",
       "                                       'deletion': 0.009410176992961657,\n",
       "                                       'epg': 0.10482927473953824,\n",
       "                                       'exp_proportion': 0.3315884039216074,\n",
       "                                       'explanation_time': 1730.903117374579,\n",
       "                                       'object_count': 60.0})})})"
      ]
     },
     "execution_count": 49,
     "metadata": {},
     "output_type": "execute_result"
    }
   ],
   "source": [
    "from collections import defaultdict\n",
    "\n",
    "\n",
    "results = defaultdict(lambda: defaultdict(lambda: defaultdict(float)))\n",
    "\n",
    "\n",
    "epg_sum = 0\n",
    "exp_proportion_sum = 0\n",
    "time_sum = 0\n",
    "insertion_sum = 0\n",
    "deletion_sum = 0\n",
    "epg_sum = 0\n",
    "exp_proportion_sum = 0\n",
    "time_sum = 0\n",
    "object_count = 0\n",
    "for key, value in curr_pickle.items():\n",
    "    explainer, model, _ = key\n",
    "\n",
    "    for obj in value:\n",
    "        results[explainer][model]['insertion'] += obj['metrics']['insertion']\n",
    "        results[explainer][model]['deletion'] += obj['metrics']['deletion']\n",
    "        results[explainer][model]['epg'] += obj['metrics']['epg']\n",
    "        results[explainer][model]['exp_proportion'] += obj['metrics']['exp_proportion']\n",
    "        results[explainer][model]['explanation_time'] += obj['metrics']['explanation_time'] \n",
    "        results[explainer][model]['object_count'] += 1 \n",
    "\n",
    "for key, value in results.items():\n",
    "    for model, metrics in value.items():\n",
    "        results[key][model]['insertion'] /= results[key][model]['object_count']\n",
    "        results[key][model]['deletion'] /= results[key][model]['object_count']\n",
    "        results[key][model]['epg'] /= results[key][model]['object_count']\n",
    "        results[key][model]['exp_proportion'] /= results[key][model]['object_count']\n",
    "        results[key][model]['explanation_time'] /= results[key][model]['object_count']\n",
    " \n",
    "results"
   ]
  }
 ],
 "metadata": {
  "kernelspec": {
   "display_name": "Python 3",
   "language": "python",
   "name": "python3"
  },
  "language_info": {
   "codemirror_mode": {
    "name": "ipython",
    "version": 3
   },
   "file_extension": ".py",
   "mimetype": "text/x-python",
   "name": "python",
   "nbconvert_exporter": "python",
   "pygments_lexer": "ipython3",
   "version": "3.11.9"
  }
 },
 "nbformat": 4,
 "nbformat_minor": 2
}
