{
 "cells": [
  {
   "cell_type": "code",
   "execution_count": 17,
   "metadata": {},
   "outputs": [],
   "source": [
    "import pickle\n",
    "pickle_file_name = './results/baseline.pkl'\n",
    "\n",
    "with open(pickle_file_name, 'rb') as file:\n",
    "    curr_pickle = pickle.load(file)"
   ]
  },
  {
   "cell_type": "code",
   "execution_count": 18,
   "metadata": {},
   "outputs": [
    {
     "data": {
      "text/plain": [
       "336"
      ]
     },
     "execution_count": 18,
     "metadata": {},
     "output_type": "execute_result"
    }
   ],
   "source": [
    "len(curr_pickle.keys())"
   ]
  },
  {
   "cell_type": "code",
   "execution_count": 19,
   "metadata": {},
   "outputs": [
    {
     "data": {
      "text/plain": [
       "(0.6161455966715825,\n",
       " 0.005173701066128561,\n",
       " 0.048984902455868805,\n",
       " 0.21333863258891286)"
      ]
     },
     "execution_count": 19,
     "metadata": {},
     "output_type": "execute_result"
    }
   ],
   "source": [
    "object_count = 0\n",
    "\n",
    "insertion_sum = 0\n",
    "deletion_sum = 0\n",
    "epg_sum = 0\n",
    "exp_proportion_sum = 0\n",
    "for key, value in curr_pickle.items():\n",
    "    for obj in value:\n",
    "        insertion_sum += obj['metrics']['insertion']\n",
    "        deletion_sum += obj['metrics']['deletion']\n",
    "        epg_sum += obj['metrics']['epg']\n",
    "        exp_proportion_sum += obj['metrics']['exp_proportion']\n",
    "        object_count += 1\n",
    "\n",
    "insertion_sum/object_count, deletion_sum/object_count, epg_sum/object_count, exp_proportion_sum/object_count"
   ]
  }
 ],
 "metadata": {
  "kernelspec": {
   "display_name": "Python 3",
   "language": "python",
   "name": "python3"
  },
  "language_info": {
   "codemirror_mode": {
    "name": "ipython",
    "version": 3
   },
   "file_extension": ".py",
   "mimetype": "text/x-python",
   "name": "python",
   "nbconvert_exporter": "python",
   "pygments_lexer": "ipython3",
   "version": "3.11.9"
  }
 },
 "nbformat": 4,
 "nbformat_minor": 2
}
