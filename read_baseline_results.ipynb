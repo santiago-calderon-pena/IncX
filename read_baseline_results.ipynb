{
 "cells": [
  {
   "cell_type": "code",
   "execution_count": 51,
   "metadata": {},
   "outputs": [],
   "source": [
    "import pickle\n",
    "pickle_file_name = './results/baseline.pkl'\n",
    "\n",
    "with open(pickle_file_name, 'rb') as file:\n",
    "    curr_pickle = pickle.load(file)"
   ]
  },
  {
   "cell_type": "code",
   "execution_count": 52,
   "metadata": {},
   "outputs": [
    {
     "data": {
      "text/plain": [
       "443"
      ]
     },
     "execution_count": 52,
     "metadata": {},
     "output_type": "execute_result"
    }
   ],
   "source": [
    "len(curr_pickle.keys())"
   ]
  },
  {
   "cell_type": "code",
   "execution_count": 57,
   "metadata": {},
   "outputs": [
    {
     "data": {
      "text/plain": [
       "defaultdict(<function __main__.<lambda>()>,\n",
       "            {'D_RISE': defaultdict(<function __main__.<lambda>.<locals>.<lambda>()>,\n",
       "                         {'FASTER_RCNN': defaultdict(float,\n",
       "                                      {'insertion': 0.6696543627931555,\n",
       "                                       'deletion': 0.004471782584884485,\n",
       "                                       'epg': 0.036921710597961,\n",
       "                                       'exp_proportion': 0.15042805077529012,\n",
       "                                       'explanation_time': 5422.634820364402,\n",
       "                                       'object_count': 1078.0,\n",
       "                                       'image_count': 192.0}),\n",
       "                          'YOLO': defaultdict(float,\n",
       "                                      {'insertion': 0.2838654448148331,\n",
       "                                       'deletion': 0.007853430829752279,\n",
       "                                       'epg': 0.09848841203102368,\n",
       "                                       'exp_proportion': 0.5611133077630931,\n",
       "                                       'explanation_time': 780.7272076061488,\n",
       "                                       'object_count': 223.0,\n",
       "                                       'image_count': 157.0}),\n",
       "                          'RT_DETR': defaultdict(float,\n",
       "                                      {'insertion': 0.5703901384979236,\n",
       "                                       'deletion': 0.009294445110680128,\n",
       "                                       'epg': 0.06257134713795642,\n",
       "                                       'exp_proportion': 0.265984816981498,\n",
       "                                       'explanation_time': 1868.8726987848281,\n",
       "                                       'object_count': 250.0,\n",
       "                                       'image_count': 94.0})})})"
      ]
     },
     "execution_count": 57,
     "metadata": {},
     "output_type": "execute_result"
    }
   ],
   "source": [
    "from collections import defaultdict\n",
    "\n",
    "\n",
    "results = defaultdict(lambda: defaultdict(lambda: defaultdict(float)))\n",
    "\n",
    "image_total_counter = 0\n",
    "for key, value in curr_pickle.items():\n",
    "    explainer, model, _ = key\n",
    "\n",
    "    for obj in value:\n",
    "        results[explainer][model]['insertion'] += obj['metrics']['insertion']\n",
    "        results[explainer][model]['deletion'] += obj['metrics']['deletion']\n",
    "        results[explainer][model]['epg'] += obj['metrics']['epg']\n",
    "        results[explainer][model]['exp_proportion'] += obj['metrics']['exp_proportion']\n",
    "        results[explainer][model]['explanation_time'] += obj['metrics']['explanation_time']\n",
    "        results[explainer][model]['object_count'] += 1\n",
    "    results[explainer][model]['image_count'] += 1\n",
    "    image_total_counter += 1\n",
    "for key, value in results.items():\n",
    "    for model, metrics in value.items():\n",
    "        results[key][model]['insertion'] /= results[key][model]['object_count']\n",
    "        results[key][model]['deletion'] /= results[key][model]['object_count']\n",
    "        results[key][model]['epg'] /= results[key][model]['object_count']\n",
    "        results[key][model]['exp_proportion'] /= results[key][model]['object_count']\n",
    "        results[key][model]['explanation_time'] /= results[key][model]['object_count']\n",
    "  \n",
    "results"
   ]
  },
  {
   "cell_type": "code",
   "execution_count": 59,
   "metadata": {},
   "outputs": [
    {
     "data": {
      "text/plain": [
       "443"
      ]
     },
     "execution_count": 59,
     "metadata": {},
     "output_type": "execute_result"
    }
   ],
   "source": [
    "image_total_counter"
   ]
  }
 ],
 "metadata": {
  "kernelspec": {
   "display_name": "Python 3",
   "language": "python",
   "name": "python3"
  },
  "language_info": {
   "codemirror_mode": {
    "name": "ipython",
    "version": 3
   },
   "file_extension": ".py",
   "mimetype": "text/x-python",
   "name": "python",
   "nbconvert_exporter": "python",
   "pygments_lexer": "ipython3",
   "version": "3.11.9"
  }
 },
 "nbformat": 4,
 "nbformat_minor": 2
}
