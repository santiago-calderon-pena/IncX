{
 "cells": [
  {
   "cell_type": "code",
   "execution_count": 1,
   "metadata": {},
   "outputs": [
    {
     "name": "stdout",
     "output_type": "stream",
     "text": [
      "KITTI: 2011 images\n",
      "LASOT: 2000 images\n",
      "---------------------------------\n",
      "Total 4011 images\n"
     ]
    }
   ],
   "source": [
    "from datasets.dataset_enum import DatasetEnum\n",
    "import os\n",
    "\n",
    "images_paths = []\n",
    "\n",
    "for dataset in DatasetEnum:\n",
    "    partial_images_paths = []\n",
    "    dataset_path = os.path.join(\".\", \"datasets\", dataset.name)\n",
    "    for path in os.listdir(dataset_path):\n",
    "        images = os.listdir(os.path.join(dataset_path, path))\n",
    "        partial_images_paths += [os.path.join(dataset_path, path, image).replace('\\\\', '/') for image in images]\n",
    "    print(f\"{dataset.name}: {len(partial_images_paths)} images\")\n",
    "    images_paths.extend(partial_images_paths)\n",
    "    \n",
    "print('---------------------------------')\n",
    "print(f\"Total {len(images_paths)} images\")\n"
   ]
  },
  {
   "cell_type": "code",
   "execution_count": 2,
   "metadata": {},
   "outputs": [],
   "source": [
    "import random\n",
    "from incremental_explainer.models.model_enum import ModelEnum\n",
    "from incremental_explainer.explainers.explainer_enum import ExplainerEnum\n",
    "import pickle\n",
    "\n",
    "random.shuffle(images_paths)\n",
    "\n",
    "job_array = []\n",
    "\n",
    "for explainer in ExplainerEnum:\n",
    "    for model in ModelEnum:\n",
    "        for image_path in images_paths:\n",
    "            job_array.append((explainer.name, model.name, image_path))\n",
    "\n",
    "random.shuffle(job_array)\n",
    "\n",
    "pickle_file_name = './results/baseline.pkl'\n",
    "\n",
    "curr_pickle = {}\n",
    "\n",
    "if os.path.exists(pickle_file_name):\n",
    "    with open(pickle_file_name, 'rb') as file:\n",
    "        curr_pickle = pickle.load(file)\n",
    "job_pickle = set(job_array) - set(curr_pickle.keys())"
   ]
  },
  {
   "cell_type": "code",
   "execution_count": 3,
   "metadata": {},
   "outputs": [
    {
     "name": "stdout",
     "output_type": "stream",
     "text": [
      "Processing image: ./datasets/LASOT/3/00000262.jpg, model: YOLO, explainer: D_RISE\n",
      "Finished image: ./datasets/LASOT/3/00000262.jpg, model: YOLO, explainer: D_RISE\n",
      "---------------------------------\n"
     ]
    }
   ],
   "source": [
    "import cv2\n",
    "from incremental_explainer.models.model_factory import ModelFactory\n",
    "\n",
    "from incremental_explainer.explainers.explainer_factory import ExplainerFactory\n",
    "import torchvision.transforms as transforms\n",
    "import numpy as np\n",
    "from incremental_explainer.metrics.deletion import compute_deletion\n",
    "from incremental_explainer.metrics.insertion import compute_insertion\n",
    "from incremental_explainer.metrics.epg import compute_energy_based_pointing_game\n",
    "from incremental_explainer.metrics.exp_proportion import compute_explanation_proportion\n",
    "import time\n",
    "\n",
    "\n",
    "job_key = (ExplainerEnum.D_RISE.name, ModelEnum.YOLO.name, './datasets/LASOT/3/00000262.jpg')\n",
    "explainer_name, model_name, image_location = job_key\n",
    "\n",
    "\n",
    "if os.path.exists(pickle_file_name):\n",
    "    with open(pickle_file_name, 'rb') as file:\n",
    "        curr_pickle = pickle.load(file)\n",
    "\n",
    "print(f\"Processing image: {image_location}, model: {model_name}, explainer: {explainer_name}\")\n",
    "model = ModelFactory().get_model(ModelEnum[model_name])\n",
    "img = cv2.imread(image_location)\n",
    "img = cv2.cvtColor(img, cv2.COLOR_BGR2RGB)\n",
    "transform = transforms.Compose([\n",
    "    transforms.ToTensor()\n",
    "])\n",
    "img_t = transform(img)\n",
    "\n",
    "start_time = time.time()\n",
    "results = model.predict([img_t])\n",
    "explainer = ExplainerFactory(results).get_explainer(ExplainerEnum[explainer_name])\n",
    "saliency = explainer.create_saliency_map(image_location, model)\n",
    "explanation_time = time.time() - start_time\n",
    "\n",
    "results_array = []\n",
    "\n",
    "divisions = 100\n",
    "\n",
    "for index in range(len(results[0].class_scores)):\n",
    "    print(f\"Started metrics: {image_location} for index {index} / {len(results[0].class_scores) - 1}\")\n",
    "    class_index = np.argmax(results[0].class_scores[index].detach())\n",
    "    saliency_map = np.array(saliency[index]['detection']).transpose(1, 2, 0)[:,:,0]\n",
    "    bounding_box = np.array(results[0].bounding_boxes[index].cpu().detach())\n",
    "    deletion = compute_deletion(model, saliency_map, img, class_index, bounding_box, divisions = divisions)\n",
    "    insertion = compute_insertion(model, saliency_map, img, class_index, bounding_box, divisions = divisions)\n",
    "    epg = compute_energy_based_pointing_game(saliency_map, bounding_box)\n",
    "    exp_prop, suf_exp = compute_explanation_proportion(model, saliency_map, img, class_index, bounding_box, divisions = divisions)\n",
    "    print(f\"Finished metrics: {image_location} for index {index} / {len(results[0].class_scores) - 1}\")\n",
    "\n",
    "    results_dict = {\n",
    "        \"metrics\": {\n",
    "            \"deletion\": deletion,\n",
    "            \"insertion\": insertion,\n",
    "            \"epg\": epg,\n",
    "            \"exp_proportion\": exp_prop,\n",
    "            \"explanation_time\": explanation_time\n",
    "        },\n",
    "        \"detection\": {\n",
    "            \"bounding_box\": bounding_box,\n",
    "            \"class_index\": int(class_index),\n",
    "            \"class_score\": max(results[0].class_scores[index].detach().numpy())\n",
    "        }\n",
    "    }\n",
    "    results_array.append(results_dict)\n",
    "\n",
    "curr_pickle = {}\n",
    "\n",
    "if os.path.exists(pickle_file_name):\n",
    "    with open(pickle_file_name, 'rb') as file:\n",
    "        curr_pickle = pickle.load(file)\n",
    "\n",
    "curr_pickle[job_key] = results_array\n",
    "\n",
    "with open(pickle_file_name, 'wb') as file:\n",
    "    pickle.dump(curr_pickle, file)\n",
    "    \n",
    "print(f\"Finished image: {image_location}, model: {model_name}, explainer: {explainer_name}\")\n",
    "print('---------------------------------')"
   ]
  },
  {
   "cell_type": "code",
   "execution_count": 5,
   "metadata": {},
   "outputs": [
    {
     "data": {
      "text/plain": [
       "[]"
      ]
     },
     "execution_count": 5,
     "metadata": {},
     "output_type": "execute_result"
    }
   ],
   "source": [
    "results_array"
   ]
  }
 ],
 "metadata": {
  "kernelspec": {
   "display_name": "Python 3",
   "language": "python",
   "name": "python3"
  },
  "language_info": {
   "codemirror_mode": {
    "name": "ipython",
    "version": 3
   },
   "file_extension": ".py",
   "mimetype": "text/x-python",
   "name": "python",
   "nbconvert_exporter": "python",
   "pygments_lexer": "ipython3",
   "version": "3.11.9"
  }
 },
 "nbformat": 4,
 "nbformat_minor": 2
}
